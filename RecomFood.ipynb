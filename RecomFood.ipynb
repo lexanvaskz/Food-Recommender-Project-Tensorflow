{
 "cells": [
  {
   "cell_type": "code",
   "execution_count": 1,
   "id": "723ecbb0",
   "metadata": {},
   "outputs": [
    {
     "name": "stdout",
     "output_type": "stream",
     "text": [
      "Requirement already satisfied: google-cloud-storage in /opt/conda/lib/python3.7/site-packages (2.8.0)\n",
      "Requirement already satisfied: google-auth<3.0dev,>=1.25.0 in /opt/conda/lib/python3.7/site-packages (from google-cloud-storage) (2.17.3)\n",
      "Requirement already satisfied: google-api-core!=2.0.*,!=2.1.*,!=2.2.*,!=2.3.0,<3.0.0dev,>=1.31.5 in /opt/conda/lib/python3.7/site-packages (from google-cloud-storage) (1.34.0)\n",
      "Requirement already satisfied: google-cloud-core<3.0dev,>=2.3.0 in /opt/conda/lib/python3.7/site-packages (from google-cloud-storage) (2.3.2)\n",
      "Requirement already satisfied: google-resumable-media>=2.3.2 in /opt/conda/lib/python3.7/site-packages (from google-cloud-storage) (2.5.0)\n",
      "Requirement already satisfied: requests<3.0.0dev,>=2.18.0 in /opt/conda/lib/python3.7/site-packages (from google-cloud-storage) (2.28.2)\n",
      "Requirement already satisfied: googleapis-common-protos<2.0dev,>=1.56.2 in /opt/conda/lib/python3.7/site-packages (from google-api-core!=2.0.*,!=2.1.*,!=2.2.*,!=2.3.0,<3.0.0dev,>=1.31.5->google-cloud-storage) (1.56.4)\n",
      "Requirement already satisfied: protobuf!=3.20.0,!=3.20.1,!=4.21.0,!=4.21.1,!=4.21.2,!=4.21.3,!=4.21.4,!=4.21.5,<4.0.0dev,>=3.19.5 in /opt/conda/lib/python3.7/site-packages (from google-api-core!=2.0.*,!=2.1.*,!=2.2.*,!=2.3.0,<3.0.0dev,>=1.31.5->google-cloud-storage) (3.19.6)\n",
      "Requirement already satisfied: cachetools<6.0,>=2.0.0 in /opt/conda/lib/python3.7/site-packages (from google-auth<3.0dev,>=1.25.0->google-cloud-storage) (4.2.4)\n",
      "Requirement already satisfied: pyasn1-modules>=0.2.1 in /opt/conda/lib/python3.7/site-packages (from google-auth<3.0dev,>=1.25.0->google-cloud-storage) (0.2.7)\n",
      "Requirement already satisfied: six>=1.9.0 in /opt/conda/lib/python3.7/site-packages (from google-auth<3.0dev,>=1.25.0->google-cloud-storage) (1.16.0)\n",
      "Requirement already satisfied: rsa<5,>=3.1.4 in /opt/conda/lib/python3.7/site-packages (from google-auth<3.0dev,>=1.25.0->google-cloud-storage) (4.9)\n",
      "Requirement already satisfied: google-crc32c<2.0dev,>=1.0 in /opt/conda/lib/python3.7/site-packages (from google-resumable-media>=2.3.2->google-cloud-storage) (1.5.0)\n",
      "Requirement already satisfied: charset-normalizer<4,>=2 in /opt/conda/lib/python3.7/site-packages (from requests<3.0.0dev,>=2.18.0->google-cloud-storage) (2.1.1)\n",
      "Requirement already satisfied: idna<4,>=2.5 in /opt/conda/lib/python3.7/site-packages (from requests<3.0.0dev,>=2.18.0->google-cloud-storage) (3.4)\n",
      "Requirement already satisfied: urllib3<1.27,>=1.21.1 in /opt/conda/lib/python3.7/site-packages (from requests<3.0.0dev,>=2.18.0->google-cloud-storage) (1.26.15)\n",
      "Requirement already satisfied: certifi>=2017.4.17 in /opt/conda/lib/python3.7/site-packages (from requests<3.0.0dev,>=2.18.0->google-cloud-storage) (2022.12.7)\n",
      "Requirement already satisfied: pyasn1<0.5.0,>=0.4.6 in /opt/conda/lib/python3.7/site-packages (from pyasn1-modules>=0.2.1->google-auth<3.0dev,>=1.25.0->google-cloud-storage) (0.4.8)\n"
     ]
    }
   ],
   "source": [
    "!pip install google-cloud-storage"
   ]
  },
  {
   "cell_type": "code",
   "execution_count": 2,
   "id": "fb7becb7",
   "metadata": {},
   "outputs": [],
   "source": [
    "import csv\n",
    "import numpy as np\n",
    "import pandas as pd\n",
    "import subprocess\n",
    "import requests\n",
    "import json\n",
    "import difflib\n",
    "from google.cloud import storage"
   ]
  },
  {
   "cell_type": "code",
   "execution_count": 4,
   "id": "9c42d66b",
   "metadata": {},
   "outputs": [
    {
     "name": "stdout",
     "output_type": "stream",
     "text": [
      "20:55\n",
      "Latitude: -6.2114\n",
      "Longitude: 106.8446\n",
      "-----------------------------------------------------------------------------------------------------\n",
      "Temp: 25.27\n"
     ]
    }
   ],
   "source": [
    "# Membaca file CSV dan menyimpannya di dalam variabel top_predictions\n",
    "top_predictions = []\n",
    "with open(\"Hasil_Rekomendasi.csv\", mode='r') as file:\n",
    "    reader = csv.reader(file)\n",
    "    next(reader)  # Mengabaikan baris header\n",
    "    for row in reader:\n",
    "        predicted_label = row[0]\n",
    "        probability = float(row[1])\n",
    "        top_predictions.append((predicted_label, probability))\n",
    "\n",
    "# Mendapatkan waktu dari system log Linux\n",
    "# Pastikan Anda telah menginstal library subprocess sebelumnya\n",
    "syslog_time = subprocess.check_output('date', shell=True).decode().strip()\n",
    "time = syslog_time[11:16]\n",
    "print(time)\n",
    "#print(syslog_time)\n",
    "\n",
    "location_url = 'https://ipgeolocation.abstractapi.com/v1/?api_key=c97e48fe3fae431f97b3167c7ef5df3b' \n",
    "response = requests.get(location_url)\n",
    "location_data = response.json()\n",
    "\n",
    "lon = str(location_data['longitude'])\n",
    "lat = str(location_data['latitude'])\n",
    "print(\"Latitude:\", lat)\n",
    "print(\"Longitude:\", lon)\n",
    "print (\"-----------------------------------------------------------------------------------------------------\")\n",
    "#Weather\n",
    "api_key = '83f803896e21d5c0975423db9e58d6f5'\n",
    "weather_url = 'https://api.openweathermap.org/data/2.5/weather?lat='+lat+'&'+'lon='+lon+'&appid='+api_key+'&units=metric' \n",
    "response = requests.get(weather_url)\n",
    "weather_data = response.json()\n",
    "temp = weather_data['main']['temp']\n",
    "print(\"Temp:\", temp)"
   ]
  },
  {
   "cell_type": "code",
   "execution_count": 5,
   "id": "c3d41bc0",
   "metadata": {},
   "outputs": [
    {
     "name": "stdout",
     "output_type": "stream",
     "text": [
      "              A            B          C              D        E          F  \\\n",
      "0    Air dingin  Ayam geprek   Gorengan  Pisang goreng    Bakso       Buah   \n",
      "1          Roti        Bakso   Gorengan    Sop kambing  Keripik  Sate ayam   \n",
      "2        Es teh        Snack     Cireng        Brownis    Bakso     Pempek   \n",
      "3       Indomie     Mie ayam  Nasi ayam     Cream soup      Sup       Buah   \n",
      "4         Bubur        Bakso    Brownis          Steak      Sup      Cakwe   \n",
      "..          ...          ...        ...            ...      ...        ...   \n",
      "188         NaN          NaN        NaN            NaN      NaN        NaN   \n",
      "189         NaN          NaN        NaN            NaN      NaN        NaN   \n",
      "190         NaN          NaN        NaN            NaN      NaN        NaN   \n",
      "191         NaN          NaN        NaN            NaN      NaN        NaN   \n",
      "192         NaN          NaN        NaN            NaN      NaN        NaN   \n",
      "\n",
      "            G              H             I             J             K  \\\n",
      "0    Sup ayam     Bakso Aci        Siomay         Kebab      Mie Aceh    \n",
      "1        Soto           Teh     Mie Rebus       Indomie      Gorengan    \n",
      "2        Soto       Indomie   Nasi Goreng   Nasi Goreng       Indomie    \n",
      "3       Gulai     Mie Rebus    Pecel Lele          Soto      Gorengan    \n",
      "4    Takoyaki      Gorengan         Bubur       Es Krim   Nasi Goreng    \n",
      "..        ...            ...           ...           ...           ...   \n",
      "188       NaN         Kuaci    Aglio Olio       Nescafe          Soda    \n",
      "189       NaN     Rice Bowl           Bbq      Jalapeno     Mozarella    \n",
      "190       NaN  Pocari Sweat   Frappuccino          Taro            NaN   \n",
      "191       NaN          Soda       Nescafe            NaN           NaN   \n",
      "192       NaN     Mozarella      Jalapeno            NaN           NaN   \n",
      "\n",
      "                  L         M           N             O             P  \n",
      "0         Mie Aceh   Kwetiaw   Mie Rebus          Kopi          Kopi   \n",
      "1         Gorengan      Buah        Buah          Buah           Teh   \n",
      "2          Indomie    Dancow      Dancow       Pancong    Chocolatos   \n",
      "3      Nasi Goreng     Snack     Indomie   Nasi Kuning   Nasi Goreng   \n",
      "4    Kwetiaw Rebus      Kopi     Indomie         Bubur       Indomie   \n",
      "..              ...       ...         ...           ...           ...  \n",
      "188             NaN       NaN         NaN           NaN           NaN  \n",
      "189             NaN       NaN         NaN           NaN           NaN  \n",
      "190             NaN       NaN         NaN           NaN           NaN  \n",
      "191             NaN       NaN         NaN           NaN           NaN  \n",
      "192             NaN       NaN         NaN           NaN           NaN  \n",
      "\n",
      "[193 rows x 16 columns]\n"
     ]
    }
   ],
   "source": [
    "# Membaca data dari ListMakanan.csv\n",
    "ListMakanan = pd.read_csv('FinalFood.csv', sep=';')\n",
    "\n",
    "print(ListMakanan)"
   ]
  },
  {
   "cell_type": "code",
   "execution_count": 6,
   "id": "f06eb756",
   "metadata": {},
   "outputs": [],
   "source": [
    "# Mendapatkan kolom terpilih berdasarkan waktu dan variabel cuaca\n",
    "selected_column = None\n",
    "\n",
    "# Membentuk rentang waktu dan variabel cuaca yang sesuai dengan kolom terpilih\n",
    "if '06:01' <= time <= '09:00' and temp >= 25:\n",
    "    selected_column = 'A'\n",
    "elif '06:01' <= time <= '09:00' and temp < 25:\n",
    "    selected_column = 'B'\n",
    "elif '09:01' <= time <= '12:00' and temp >= 25:\n",
    "    selected_column = 'C'\n",
    "elif '09:01' <= time <= '12:00' and temp >= 25:\n",
    "    selected_column = 'D'\n",
    "elif '12:01' <= time <= '15:00' and temp < 25:\n",
    "    selected_column = 'E'\n",
    "elif '12:01' <= time <= '15:00' and temp >= 25:\n",
    "    selected_column = 'F'\n",
    "elif '15:01' <= time <= '18:00' and temp < 25:\n",
    "    selected_column = 'G'\n",
    "elif '15:01' <= time <= '18:00' and temp >= 25:\n",
    "    selected_column = 'H'\n",
    "elif '18:01' <= time <= '21:00' and temp >= 25:\n",
    "    selected_column = 'I'\n",
    "elif '18:01' <= time <= '21:00' and temp < 25:\n",
    "    selected_column = 'J'\n",
    "elif '21:01' <= time <= '23:59' and temp >= 25:\n",
    "    selected_column = 'K'\n",
    "elif '21:01' <= time <= '23:59' and temp < 25:\n",
    "    selected_column = 'L'\n",
    "elif '00:00' <= time <= '03:00' and temp >= 25:\n",
    "    selected_column = 'M'\n",
    "elif '00:00' <= time <= '03:00' and temp < 25:\n",
    "    selected_column = 'N'\n",
    "elif '03:01' <= time <= '06:00' and temp >= 25:\n",
    "    selected_column = 'O'\n",
    "elif '03:01' <= time <= '06:00' and temp < 25:\n",
    "    selected_column = 'P'"
   ]
  },
  {
   "cell_type": "code",
   "execution_count": 7,
   "id": "12fdb5d7",
   "metadata": {},
   "outputs": [
    {
     "name": "stdout",
     "output_type": "stream",
     "text": [
      "['Ayam Sambal Matah ', 'Brownis ', 'Croissant ', 'Latte ', 'Bubur ']\n"
     ]
    }
   ],
   "source": [
    "# Menginisialisasi daftar rekomendasi yang cocok dengan kolom terpilih\n",
    "matched_recommendations = []\n",
    "nama_resto = []\n",
    "\n",
    "# Membandingkan rekomendasi dengan data pada kolom terpilih menggunakan cosine similarity\n",
    "selected_data = [item for item in ListMakanan[selected_column].dropna().values]\n",
    "\n",
    "# Jika tidak ada kesamaan penuh, tambahkan prediksi selanjutnya hingga mencapai 5 kesamaan\n",
    "i = 5\n",
    "\n",
    "while len(matched_recommendations) < 5:\n",
    "    remaining_predictions = top_predictions[:i]\n",
    "    i += 5\n",
    "    remainings = [prediction[0] for prediction in remaining_predictions]\n",
    "    for food_name in remainings:\n",
    "        for data in selected_data:\n",
    "            similarity_score = difflib.SequenceMatcher(None, food_name.lower(), data.lower()).ratio()\n",
    "            if similarity_score >= 0.8:\n",
    "                matched_recommendations.append(data)\n",
    "\n",
    "    matched_recommendations = list(set(matched_recommendations))\n",
    "    \n",
    "    # Jika semua 5 rekomendasi cocok dengan data kolom terpilih, simpan nama makanan langsung\n",
    "    if len(matched_recommendations) == 5:\n",
    "        recommended_foods = matched_recommendations\n",
    "        break  # Keluar dari loop while jika sudah ada 5 rekomendasi yang cocok\n",
    "\n",
    "print(matched_recommendations)"
   ]
  },
  {
   "cell_type": "code",
   "execution_count": 42,
   "id": "36b7fad5",
   "metadata": {},
   "outputs": [
    {
     "name": "stdout",
     "output_type": "stream",
     "text": [
      "                                      Nama_resto  \\\n",
      "0      Warkop Berkah Big's Family Pasadena Depok   \n",
      "1      Warkop Berkah Big's Family Pasadena Depok   \n",
      "2      Warkop Berkah Big's Family Pasadena Depok   \n",
      "3      Warkop Berkah Big's Family Pasadena Depok   \n",
      "4      Warkop Berkah Big's Family Pasadena Depok   \n",
      "...                                          ...   \n",
      "31951        Nasi Goreng Sibungsu  - Kebon Sirih   \n",
      "31952        Nasi Goreng Sibungsu  - Kebon Sirih   \n",
      "31953        Nasi Goreng Sibungsu  - Kebon Sirih   \n",
      "31954        Nasi Goreng Sibungsu  - Kebon Sirih   \n",
      "31955        Nasi Goreng Sibungsu  - Kebon Sirih   \n",
      "\n",
      "                                   Nama_makanan  \n",
      "0                      Pisang Bakar Coklat Keju  \n",
      "1                          Bubur Goreng Komplit  \n",
      "2         Indomie Goreng Tek Tek (Tumis Kering)  \n",
      "3      Indomie Nyemek Spesial (sedikit Berkuah)  \n",
      "4                     Indomie Dog Dog (Berkuah)  \n",
      "...                                         ...  \n",
      "31951                              Es Teh Manis  \n",
      "31952                              Telor Ceplok  \n",
      "31953                           Nasi Siram Ayam  \n",
      "31954                               Nasi Capcay  \n",
      "31955                Nasi Putih Sapi Lada Hitam  \n",
      "\n",
      "[31956 rows x 2 columns]\n"
     ]
    }
   ],
   "source": [
    "# Membaca data dari DataResto.csv\n",
    "RekomendasiAkhir = pd.read_csv('DataResto.csv', sep=',')\n",
    "print(RekomendasiAkhir)\n",
    "\n",
    "# Menginisialisasi daftar rekomendasi yang cocok dengan kolom terpilih\n",
    "rekomendasi_akhir = []\n",
    "\n",
    "# Membandingkan rekomendasi dengan data pada kolom terpilih menggunakan cosine similarity\n",
    "selected_row = [item for item in RekomendasiAkhir['Nama_makanan'].dropna().values]"
   ]
  },
  {
   "cell_type": "code",
   "execution_count": 43,
   "id": "e9f2f5ec",
   "metadata": {},
   "outputs": [
    {
     "ename": "KeyboardInterrupt",
     "evalue": "",
     "output_type": "error",
     "traceback": [
      "\u001b[0;31m---------------------------------------------------------------------------\u001b[0m",
      "\u001b[0;31mKeyboardInterrupt\u001b[0m                         Traceback (most recent call last)",
      "\u001b[0;32m/var/tmp/ipykernel_14723/2519275672.py\u001b[0m in \u001b[0;36m<module>\u001b[0;34m\u001b[0m\n\u001b[1;32m      6\u001b[0m     \u001b[0;32mfor\u001b[0m \u001b[0mname\u001b[0m \u001b[0;32min\u001b[0m \u001b[0mmatched_recommendations\u001b[0m\u001b[0;34m:\u001b[0m\u001b[0;34m\u001b[0m\u001b[0;34m\u001b[0m\u001b[0m\n\u001b[1;32m      7\u001b[0m         \u001b[0;32mfor\u001b[0m \u001b[0mdata\u001b[0m \u001b[0;32min\u001b[0m \u001b[0mprediction_row\u001b[0m\u001b[0;34m:\u001b[0m\u001b[0;34m\u001b[0m\u001b[0;34m\u001b[0m\u001b[0m\n\u001b[0;32m----> 8\u001b[0;31m             \u001b[0msimilarity_score\u001b[0m \u001b[0;34m=\u001b[0m \u001b[0mdifflib\u001b[0m\u001b[0;34m.\u001b[0m\u001b[0mSequenceMatcher\u001b[0m\u001b[0;34m(\u001b[0m\u001b[0;32mNone\u001b[0m\u001b[0;34m,\u001b[0m \u001b[0mfood_name\u001b[0m\u001b[0;34m.\u001b[0m\u001b[0mlower\u001b[0m\u001b[0;34m(\u001b[0m\u001b[0;34m)\u001b[0m\u001b[0;34m,\u001b[0m \u001b[0mdata\u001b[0m\u001b[0;34m.\u001b[0m\u001b[0mlower\u001b[0m\u001b[0;34m(\u001b[0m\u001b[0;34m)\u001b[0m\u001b[0;34m)\u001b[0m\u001b[0;34m.\u001b[0m\u001b[0mratio\u001b[0m\u001b[0;34m(\u001b[0m\u001b[0;34m)\u001b[0m\u001b[0;34m\u001b[0m\u001b[0;34m\u001b[0m\u001b[0m\n\u001b[0m\u001b[1;32m      9\u001b[0m             \u001b[0;32mif\u001b[0m \u001b[0msimilarity_score\u001b[0m \u001b[0;34m>=\u001b[0m \u001b[0;36m0.8\u001b[0m\u001b[0;34m:\u001b[0m\u001b[0;34m\u001b[0m\u001b[0;34m\u001b[0m\u001b[0m\n\u001b[1;32m     10\u001b[0m                 \u001b[0;31m# Menyimpan Nama_resto dari baris yang sesuai dengan data\u001b[0m\u001b[0;34m\u001b[0m\u001b[0;34m\u001b[0m\u001b[0;34m\u001b[0m\u001b[0m\n",
      "\u001b[0;31mKeyboardInterrupt\u001b[0m: "
     ]
    }
   ],
   "source": [
    "i = 5\n",
    "\n",
    "while len(rekomendasi_akhir) < 5:\n",
    "    prediction_row = selected_row[:i]\n",
    "    i += 5\n",
    "    for name in matched_recommendations:\n",
    "        for data in prediction_row:\n",
    "            similarity_score = difflib.SequenceMatcher(None, food_name.lower(), data.lower()).ratio()\n",
    "            if similarity_score >= 0.2:\n",
    "                # Menyimpan Nama_resto dari baris yang sesuai dengan data\n",
    "                row_index = RekomendasiAkhir[RekomendasiAkhir['Nama_makanan'] == data].index[0]\n",
    "                nama_resto.append(RekomendasiAkhir.loc[row_index, 'Nama_resto'])\n",
    "                rekomendasi_akhir.append(data)\n",
    "    \n",
    "                rekomendasi_akhir = list(set(rekomendasi_akhir))\n",
    "    \n",
    "    # Jika semua 5 rekomendasi cocok dengan data kolom terpilih, simpan nama makanan langsung\n",
    "    if len(rekomendasi_akhir) == 5:\n",
    "        final_recommendation = rekomendasi_akhir\n",
    "        break  # Keluar dari loop while jika sudah ada 5 rekomendasi yang cocok\n",
    "    elif i > len(RekomendasiAkhir):  # Memeriksa jika sudah mencapai row paling bawah\n",
    "        break\n",
    "        \n",
    "# Menghapus elemen duplikat dari nama_resto\n",
    "nama_resto = list(set(nama_resto))\n",
    "\n",
    "# Menggabungkan semua baris dengan Nama_resto yang sama\n",
    "matching_rows = RekomendasiAkhir[RekomendasiAkhir['Nama_resto'].isin(nama_resto)]\n",
    "\n",
    "matching_rows.to_json('RekomendasiAkhir.json', orient='records')"
   ]
  },
  {
   "cell_type": "code",
   "execution_count": null,
   "id": "36c33420",
   "metadata": {},
   "outputs": [],
   "source": [
    "# Mendefinisikan path ke file key service account\n",
    "key_path = 'capstone-food-recommendation-d639e106b8c9.json'\n",
    "\n",
    "# Membuat objek client storage\n",
    "client = storage.Client.from_service_account_json(key_path)\n",
    "\n",
    "# Mendefinisikan bucket GCP yang akan digunakan\n",
    "bucket_name = 'findfud_bucket'\n",
    "\n",
    "# Mengupload file ke bucket\n",
    "blob = client.bucket(bucket_name).blob('RekomendasiAkhir.json')\n",
    "blob.upload_from_filename('RekomendasiAkhir.json')"
   ]
  }
 ],
 "metadata": {
  "kernelspec": {
   "display_name": "Python 3 (ipykernel)",
   "language": "python",
   "name": "python3"
  },
  "language_info": {
   "codemirror_mode": {
    "name": "ipython",
    "version": 3
   },
   "file_extension": ".py",
   "mimetype": "text/x-python",
   "name": "python",
   "nbconvert_exporter": "python",
   "pygments_lexer": "ipython3",
   "version": "3.7.12"
  }
 },
 "nbformat": 4,
 "nbformat_minor": 5
}
